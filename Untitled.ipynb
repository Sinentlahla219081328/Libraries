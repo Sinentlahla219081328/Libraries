{
 "cells": [
  {
   "cell_type": "code",
   "execution_count": null,
   "id": "e4099eb9-0daa-4286-9495-0274459397b4",
   "metadata": {},
   "outputs": [],
   "source": []
  },
  {
   "cell_type": "code",
   "execution_count": null,
   "id": "494722a3-c2ca-437d-aa3e-bdd8fc9b44ac",
   "metadata": {},
   "outputs": [],
   "source": []
  },
  {
   "metadata": {},
   "cell_type": "code",
   "outputs": [],
   "execution_count": null,
   "source": "",
   "id": "5049e1055e2bf7c6"
  },
  {
   "metadata": {},
   "cell_type": "code",
   "outputs": [],
   "execution_count": null,
   "source": "",
   "id": "6727d1ee3f939cef"
  },
  {
   "metadata": {},
   "cell_type": "markdown",
   "source": "",
   "id": "677213c15bfc0be9"
  },
  {
   "metadata": {
    "ExecuteTime": {
     "end_time": "2024-10-23T08:41:07.433471Z",
     "start_time": "2024-10-23T08:41:07.430457Z"
    }
   },
   "cell_type": "code",
   "source": "",
   "id": "563e272d1020ab1e",
   "outputs": [],
   "execution_count": null
  },
  {
   "metadata": {
    "ExecuteTime": {
     "end_time": "2024-10-23T08:41:07.576577Z",
     "start_time": "2024-10-23T08:41:07.539485Z"
    }
   },
   "cell_type": "code",
   "source": "",
   "id": "dca9b32b04b69f55",
   "outputs": [],
   "execution_count": null
  },
  {
   "metadata": {},
   "cell_type": "code",
   "outputs": [],
   "execution_count": null,
   "source": "",
   "id": "105e65dff4dec486"
  }
 ],
 "metadata": {
  "kernelspec": {
   "display_name": "Python 3 (ipykernel)",
   "language": "python",
   "name": "python3"
  },
  "language_info": {
   "codemirror_mode": {
    "name": "ipython",
    "version": 3
   },
   "file_extension": ".py",
   "mimetype": "text/x-python",
   "name": "python",
   "nbconvert_exporter": "python",
   "pygments_lexer": "ipython3",
   "version": "3.13.0"
  }
 },
 "nbformat": 4,
 "nbformat_minor": 5
}
